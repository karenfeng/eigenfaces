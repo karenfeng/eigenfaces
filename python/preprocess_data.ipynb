{
 "cells": [
  {
   "cell_type": "code",
   "execution_count": 1,
   "id": "eceb7e94",
   "metadata": {},
   "outputs": [],
   "source": [
    "import cv2\n",
    "import glob\n",
    "import io\n",
    "import matplotlib.pyplot as plt\n",
    "import os\n",
    "import torch\n",
    "from torch.utils.data import Dataset, DataLoader"
   ]
  },
  {
   "cell_type": "code",
   "execution_count": 2,
   "id": "9ea01b53",
   "metadata": {},
   "outputs": [],
   "source": [
    "class EigenfacesDataset(Dataset):\n",
    "\n",
    "    def __init__(self, data_dir):\n",
    "        \"\"\"\n",
    "        Arguments:\n",
    "            data_dir (string): Directory with all the images.\n",
    "        \"\"\"\n",
    "        self.img_path_list = [\n",
    "            i for i in sorted(glob.glob(\"{}/**/*.pgm\".format(data_dir))) \\\n",
    "            if self.get_labels(i)['scale'] == 1]\n",
    "\n",
    "    def __len__(self):\n",
    "        return len(self.img_path_list)\n",
    "\n",
    "    def __getitem__(self, idx):\n",
    "        if torch.is_tensor(idx):\n",
    "            idx = idx.tolist()\n",
    "\n",
    "        img_path = self.img_path_list[idx]\n",
    "        image = cv2.imread(img_path)\n",
    "        labels = self.get_labels(img_path)\n",
    "        item = labels.copy()\n",
    "        item.pop('scale')\n",
    "        item['image'] = image\n",
    "\n",
    "        return item\n",
    "\n",
    "    def get_labels(self, img_path):\n",
    "        img_name = os.path.splitext(os.path.basename(img_path))[0]\n",
    "        img_name_split = img_name.split('_')\n",
    "\n",
    "        user_id = img_name_split[0]\n",
    "        head_position = img_name_split[1]\n",
    "        facial_expression = img_name_split[2]\n",
    "        eye_state = img_name_split[3]\n",
    "        \n",
    "        if len(img_name_split) == 5:\n",
    "            scale = int(img_name_split[4])\n",
    "        else:\n",
    "            scale = 1\n",
    "        \n",
    "        labels = {\n",
    "            'user_id': user_id,\n",
    "            'head_position': head_position,\n",
    "            'facial_expression': facial_expression,\n",
    "            'eye_state': eye_state,\n",
    "            'scale': scale}\n",
    "        return labels"
   ]
  },
  {
   "cell_type": "code",
   "execution_count": 3,
   "id": "50878b26",
   "metadata": {},
   "outputs": [],
   "source": [
    "eigenfaces_dataset = EigenfacesDataset(data_dir='../data')\n",
    "eigenfaces_dataloader = DataLoader(eigenfaces_dataset)"
   ]
  },
  {
   "cell_type": "code",
   "execution_count": 4,
   "id": "09cf1f7c",
   "metadata": {},
   "outputs": [
    {
     "data": {
      "text/plain": [
       "{'user_id': ['an2i'],\n",
       " 'head_position': ['left'],\n",
       " 'facial_expression': ['angry'],\n",
       " 'eye_state': ['open'],\n",
       " 'image': tensor([[[[34, 34, 34],\n",
       "           [ 3,  3,  3],\n",
       "           [ 1,  1,  1],\n",
       "           ...,\n",
       "           [52, 52, 52],\n",
       "           [52, 52, 52],\n",
       "           [52, 52, 52]],\n",
       " \n",
       "          [[47, 47, 47],\n",
       "           [21, 21, 21],\n",
       "           [ 0,  0,  0],\n",
       "           ...,\n",
       "           [52, 52, 52],\n",
       "           [52, 52, 52],\n",
       "           [53, 53, 53]],\n",
       " \n",
       "          [[47, 47, 47],\n",
       "           [ 6,  6,  6],\n",
       "           [ 1,  1,  1],\n",
       "           ...,\n",
       "           [52, 52, 52],\n",
       "           [53, 53, 53],\n",
       "           [55, 55, 55]],\n",
       " \n",
       "          ...,\n",
       " \n",
       "          [[ 0,  0,  0],\n",
       "           [ 0,  0,  0],\n",
       "           [ 0,  0,  0],\n",
       "           ...,\n",
       "           [60, 60, 60],\n",
       "           [ 0,  0,  0],\n",
       "           [ 0,  0,  0]],\n",
       " \n",
       "          [[ 0,  0,  0],\n",
       "           [ 0,  0,  0],\n",
       "           [ 0,  0,  0],\n",
       "           ...,\n",
       "           [60, 60, 60],\n",
       "           [ 4,  4,  4],\n",
       "           [ 0,  0,  0]],\n",
       " \n",
       "          [[ 0,  0,  0],\n",
       "           [ 0,  0,  0],\n",
       "           [ 0,  0,  0],\n",
       "           ...,\n",
       "           [80, 80, 80],\n",
       "           [40, 40, 40],\n",
       "           [ 0,  0,  0]]]], dtype=torch.uint8)}"
      ]
     },
     "execution_count": 4,
     "metadata": {},
     "output_type": "execute_result"
    }
   ],
   "source": [
    "next(iter(eigenfaces_dataloader))"
   ]
  }
 ],
 "metadata": {
  "kernelspec": {
   "display_name": "Python 3 (ipykernel)",
   "language": "python",
   "name": "python3"
  },
  "language_info": {
   "codemirror_mode": {
    "name": "ipython",
    "version": 3
   },
   "file_extension": ".py",
   "mimetype": "text/x-python",
   "name": "python",
   "nbconvert_exporter": "python",
   "pygments_lexer": "ipython3",
   "version": "3.9.12"
  }
 },
 "nbformat": 4,
 "nbformat_minor": 5
}
